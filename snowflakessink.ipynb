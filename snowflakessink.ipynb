{
 "cells": [
  {
   "cell_type": "markdown",
   "metadata": {},
   "source": [
    "***GENERATED CODE FOR snowflakessink PIPELINE.***"
   ]
  },
  {
   "cell_type": "markdown",
   "metadata": {},
   "source": [
    "***DON'T EDIT THIS CODE.***"
   ]
  },
  {
   "cell_type": "markdown",
   "metadata": {},
   "source": [
    "***CONNECTOR FUNCTIONS TO READ DATA.***"
   ]
  },
  {
   "cell_type": "code",
   "execution_count": null,
   "metadata": {},
   "outputs": [],
   "source": [
    "import warnings\n",
    "warnings.filterwarnings('ignore')\n",
    "\n",
    "\n",
    "class SnowFlakeConnector:\n",
    "\n",
    "    def fetch(spark, config):\n",
    "        return spark.read.format(\"net.snowflake.spark.snowflake\") \\\n",
    "            .option(\"sfUrl\", eval(config)['access_url']) \\\n",
    "            .option(\"sfUser\", eval(config)['username']) \\\n",
    "            .option(\"sfPassword\", eval(config)['password']) \\\n",
    "            .option(\"sfDatabase\", eval(config)['database']) \\\n",
    "            .option(\"sfSchema\", eval(config)['schema']) \\\n",
    "            .option(eval(config)['qtype'], eval(config)['query']) \\\n",
    "            .load()\n",
    "\n",
    "    def put(df, spark, config):\n",
    "        df.write.mode(eval(config)['writemode'])\\\n",
    "            .format(\"net.snowflake.spark.snowflake\") \\\n",
    "            .option(\"sfUrl\", eval(config)['access_url']) \\\n",
    "            .option(\"sfUser\", eval(config)['username']) \\\n",
    "            .option(\"sfPassword\", eval(config)['password']) \\\n",
    "            .option(\"sfDatabase\", eval(config)['database']) \\\n",
    "            .option(\"sfSchema\", eval(config)['schema']) \\\n",
    "            .option(eval(config)['qtype'], eval(config)['query']) \\\n",
    "            .save()\n"
   ]
  },
  {
   "cell_type": "markdown",
   "metadata": {},
   "source": [
    "***TRANSFORMATIONS FUNCTIONS THAT WILL BE APPLIED ON DATA***"
   ]
  },
  {
   "cell_type": "code",
   "execution_count": null,
   "metadata": {},
   "outputs": [],
   "source": [
    "import json\n",
    "from pyspark.sql.functions import col, when\n",
    "from pyspark.sql.functions import mean, stddev, min, max, col\n",
    "\n",
    "\n",
    "class CleanseData:\n",
    "    # def __init__(self,df):\n",
    "    #     #print()\n",
    "\n",
    "    def replaceByMean(self, feature, df, mean_=-1):\n",
    "\n",
    "        meanValue = df.select(mean(col(feature.name)).alias(\n",
    "            'mean')).collect()[0][\"mean\"]\n",
    "        df.fillna(meanValue, subset=[feature.name])\n",
    "        df.withColumn(feature.name, when(col(feature.name) == \" \",\n",
    "                                         meanValue).otherwise(col(feature.name).cast(\"Integer\")))\n",
    "        return df\n",
    "\n",
    "    def replaceByMax(self, feature, df, max_=-1):\n",
    "        maxValue = df.select(max(col(feature.name)).alias('max')).collect()[\n",
    "            0][\"max\"]\n",
    "        df.fillna(maxValue, subset=[feature.name])\n",
    "        df = df.withColumn(feature.name,\n",
    "                           when(col(feature.name) == \" \", maxValue).otherwise(col(feature.name)))\n",
    "        return df\n",
    "\n",
    "    def replaceByMin(self, feature, df, min_=-1):\n",
    "        minValue = df.select(min(col(feature.name)).alias('min')).collect()[\n",
    "            0][\"min\"]\n",
    "        df.fillna(minValue, subset=[feature.name])\n",
    "        df = df.withColumn(feature.name,\n",
    "                           when(col(feature.name) == \" \", minValue).otherwise(col(feature.name)))\n",
    "        return df\n",
    "\n",
    "    def replaceByStandardDeviation(self, feature, df, stddev_=-1):\n",
    "        stddevValue = df.select(stddev(col(feature.name)).alias(\n",
    "            'stddev')).collect()[0][\"stddev\"]\n",
    "        df.fillna(stddevValue, subset=[feature.name])\n",
    "        df = df.withColumn(feature.name,\n",
    "                           when(col(feature.name) == \" \", stddevValue).otherwise(col(feature.name)))\n",
    "        return df\n",
    "\n",
    "    def replaceDateRandomly(self, feature, df):\n",
    "        fillValue = df.where(col(feature.name).isNotNull()\n",
    "                             ).head(1)[0][feature.name]\n",
    "        df.fillna(str(fillValue), subset=[feature.name])\n",
    "        df = df.withColumn(feature.name,\n",
    "                           when(col(feature.name) == \" \", fillValue).otherwise(col(feature.name)))\n",
    "        # print(\"CleanseData:replaceDateRandomly Schema : \", df.#printSchema())\n",
    "        return df\n",
    "\n",
    "    def replaceNullValues(self, fList, df):\n",
    "        featuresList = df.schema.fields\n",
    "        for featureObj in fList:\n",
    "            for feat in featuresList:\n",
    "                if featureObj[\"feature\"] in feat.name:\n",
    "                    featureName = feat\n",
    "                    if \"mean\" in featureObj[\"replaceby\"]:\n",
    "                        df = self.replaceByMean(featureName, df)\n",
    "                    elif \"max\" in featureObj[\"replaceby\"]:\n",
    "                        df = self.replaceByMax(featureName, df)\n",
    "                    elif \"min\" in featureObj[\"replaceby\"]:\n",
    "                        df = self.replaceByMin(featureName, df)\n",
    "                    elif \"stddev\" in featureObj[\"replaceby\"]:\n",
    "                        df = self.replaceByStandardDeviation(featureName, df)\n",
    "                    elif \"random\" in featureObj[\"replaceby\"]:\n",
    "                        df = self.replaceDateRandomly(featureName, df)\n",
    "        return df\n",
    "\n",
    "\n",
    "class TransformationMain:\n",
    "    # TODO: change df argument in run with following\n",
    "    def run(transformationDF, config):\n",
    "        configObj = json.loads(config)\n",
    "        featureData = configObj[\"FE\"]\n",
    "        transformationDF = CleanseData().replaceNullValues(featureData, transformationDF)\n",
    "        display(transformationDF.limit(2).toPandas())\n",
    "        return transformationDF\n"
   ]
  },
  {
   "cell_type": "markdown",
   "metadata": {},
   "source": [
    "***CONNECTOR FUNCTIONS TO WRITE DATA.***"
   ]
  },
  {
   "cell_type": "code",
   "execution_count": null,
   "metadata": {},
   "outputs": [],
   "source": [
    "import warnings\n",
    "warnings.filterwarnings('ignore')\n",
    "\n",
    "\n",
    "class SnowFlakeConnector:\n",
    "\n",
    "    def fetch(spark, config):\n",
    "        return spark.read.format(\"net.snowflake.spark.snowflake\") \\\n",
    "            .option(\"sfUrl\", eval(config)['access_url']) \\\n",
    "            .option(\"sfUser\", eval(config)['username']) \\\n",
    "            .option(\"sfPassword\", eval(config)['password']) \\\n",
    "            .option(\"sfDatabase\", eval(config)['database']) \\\n",
    "            .option(\"sfSchema\", eval(config)['schema']) \\\n",
    "            .option(eval(config)['qtype'], eval(config)['query']) \\\n",
    "            .load()\n",
    "\n",
    "    def put(df, spark, config):\n",
    "        df.write.mode(eval(config)['writemode'])\\\n",
    "            .format(\"net.snowflake.spark.snowflake\") \\\n",
    "            .option(\"sfUrl\", eval(config)['access_url']) \\\n",
    "            .option(\"sfUser\", eval(config)['username']) \\\n",
    "            .option(\"sfPassword\", eval(config)['password']) \\\n",
    "            .option(\"sfDatabase\", eval(config)['database']) \\\n",
    "            .option(\"sfSchema\", eval(config)['schema']) \\\n",
    "            .option(eval(config)['qtype'], eval(config)['query']) \\\n",
    "            .save()\n"
   ]
  },
  {
   "cell_type": "markdown",
   "metadata": {},
   "source": [
    "***READING DATAFRAME***"
   ]
  },
  {
   "cell_type": "code",
   "execution_count": null,
   "metadata": {},
   "outputs": [],
   "source": [
    "#%run snowflakessinkHooks.ipynb\n",
    "try:\n",
    "\t#sourcePreExecutionHook()\n",
    "\n",
    "\tsnowflake = SnowFlakeConnector.fetch(spark, \"{'url': '/FileStore/platform/sampleData/6040bdf3ce0beb63e0ae0a01/part-00000-ad1308ba-396c-4c33-83da-0700b81a7ab0-c000.csv', 'access_url': 'https://wx63330.southeast-asia.azure.snowflakecomputing.com', 'username': 'numtra1122', 'password': 'numtra1122F', 'database': 'TESTDB', 'schema': 'PUBLIC', 'qtype': 'dbtable', 'query': 'BOSTON_TRAIN', 'dbtype': 'snowflake', 'is_header': 'Use Header Line'}\")\n",
    "\t#sourcePostExecutionHook(snowflake)\n",
    "\n",
    "except Exception as ex: \n",
    "\tlogging.error(ex)\n"
   ]
  },
  {
   "cell_type": "markdown",
   "metadata": {},
   "source": [
    "***TRANSFORMING DATAFRAME***"
   ]
  },
  {
   "cell_type": "code",
   "execution_count": null,
   "metadata": {},
   "outputs": [],
   "source": [
    "#%run snowflakessinkHooks.ipynb\n",
    "try:\n",
    "\t#transformationPreExecutionHook()\n",
    "\n",
    "\tautofe = TransformationMain.run(snowflake,json.dumps( {\"FE\": [{\"transformationsData\": [{\"transformation_label\": \"novalue\"}], \"feature\": \"CRIM\", \"type\": \"real\", \"selected\": \"True\", \"replaceby\": \"mean\", \"stats\": {\"count\": \"102\", \"mean\": \"4.58\", \"stddev\": \"11.57\", \"min\": \"0.02187\", \"max\": \"73.5341\", \"missing\": \"0\"}, \"transformation\": [{\"transformation\": \"novalue\", \"selectedAsDefault\": 1}], \"updatedLabel\": \"CRIM\"}, {\"transformationsData\": [{\"transformation_label\": \"novalue\"}], \"feature\": \"ZN\", \"type\": \"real\", \"selected\": \"True\", \"replaceby\": \"mean\", \"stats\": {\"count\": \"102\", \"mean\": \"10.13\", \"stddev\": \"20.15\", \"min\": \"0.0\", \"max\": \"95.0\", \"missing\": \"0\"}, \"transformation\": [{\"transformation\": \"novalue\", \"selectedAsDefault\": 1}], \"updatedLabel\": \"ZN\"}, {\"transformationsData\": [{\"transformation_label\": \"novalue\"}], \"feature\": \"INDUS\", \"type\": \"real\", \"selected\": \"True\", \"replaceby\": \"mean\", \"stats\": {\"count\": \"102\", \"mean\": \"10.45\", \"stddev\": \"6.47\", \"min\": \"1.25\", \"max\": \"27.74\", \"missing\": \"0\"}, \"transformation\": [{\"transformation\": \"novalue\", \"selectedAsDefault\": 1}], \"updatedLabel\": \"INDUS\"}, {\"transformationsData\": [{\"transformation_label\": \"novalue\"}], \"feature\": \"CHAS\", \"type\": \"real\", \"selected\": \"True\", \"replaceby\": \"mean\", \"stats\": {\"count\": \"102\", \"mean\": \"0.06\", \"stddev\": \"0.24\", \"min\": \"0.0\", \"max\": \"1.0\", \"missing\": \"0\"}, \"transformation\": [{\"transformation\": \"novalue\", \"selectedAsDefault\": 1}], \"updatedLabel\": \"CHAS\"}, {\"transformationsData\": [{\"transformation_label\": \"novalue\"}], \"feature\": \"NOX\", \"type\": \"real\", \"selected\": \"True\", \"replaceby\": \"mean\", \"stats\": {\"count\": \"102\", \"mean\": \"0.55\", \"stddev\": \"0.12\", \"min\": \"0.392\", \"max\": \"0.871\", \"missing\": \"0\"}, \"transformation\": [{\"transformation\": \"novalue\", \"selectedAsDefault\": 1}], \"updatedLabel\": \"NOX\"}, {\"transformationsData\": [{\"transformation_label\": \"novalue\"}], \"feature\": \"RM\", \"type\": \"real\", \"selected\": \"True\", \"replaceby\": \"mean\", \"stats\": {\"count\": \"102\", \"mean\": \"6.24\", \"stddev\": \"0.66\", \"min\": \"4.88\", \"max\": \"8.725\", \"missing\": \"0\"}, \"transformation\": [{\"transformation\": \"novalue\", \"selectedAsDefault\": 1}], \"updatedLabel\": \"RM\"}, {\"transformationsData\": [{\"transformation_label\": \"novalue\"}], \"feature\": \"AGE\", \"type\": \"real\", \"selected\": \"True\", \"replaceby\": \"mean\", \"stats\": {\"count\": \"102\", \"mean\": \"70.95\", \"stddev\": \"27.42\", \"min\": \"7.8\", \"max\": \"100.0\", \"missing\": \"0\"}, \"transformation\": [{\"transformation\": \"novalue\", \"selectedAsDefault\": 1}], \"updatedLabel\": \"AGE\"}, {\"transformationsData\": [{\"transformation_label\": \"novalue\"}], \"feature\": \"DIS\", \"type\": \"real\", \"selected\": \"True\", \"replaceby\": \"mean\", \"stats\": {\"count\": \"102\", \"mean\": \"3.96\", \"stddev\": \"2.14\", \"min\": \"1.3861\", \"max\": \"9.2203\", \"missing\": \"0\"}, \"transformation\": [{\"transformation\": \"novalue\", \"selectedAsDefault\": 1}], \"updatedLabel\": \"DIS\"}, {\"transformationsData\": [{\"transformation_label\": \"novalue\"}], \"feature\": \"RAD\", \"type\": \"real\", \"selected\": \"True\", \"replaceby\": \"mean\", \"stats\": {\"count\": \"102\", \"mean\": \"9.15\", \"stddev\": \"8.43\", \"min\": \"1.0\", \"max\": \"24.0\", \"missing\": \"0\"}, \"transformation\": [{\"transformation\": \"novalue\", \"selectedAsDefault\": 1}], \"updatedLabel\": \"RAD\"}, {\"transformationsData\": [{\"transformation_label\": \"novalue\"}], \"feature\": \"TAX\", \"type\": \"real\", \"selected\": \"True\", \"replaceby\": \"mean\", \"stats\": {\"count\": \"102\", \"mean\": \"399.95\", \"stddev\": \"164.04\", \"min\": \"188.0\", \"max\": \"711.0\", \"missing\": \"0\"}, \"transformation\": [{\"transformation\": \"novalue\", \"selectedAsDefault\": 1}], \"updatedLabel\": \"TAX\"}, {\"transformationsData\": [{\"transformation_label\": \"novalue\"}], \"feature\": \"PTRATIO\", \"type\": \"real\", \"selected\": \"True\", \"replaceby\": \"mean\", \"stats\": {\"count\": \"102\", \"mean\": \"18.19\", \"stddev\": \"2.09\", \"min\": \"13.0\", \"max\": \"21.0\", \"missing\": \"0\"}, \"transformation\": [{\"transformation\": \"novalue\", \"selectedAsDefault\": 1}], \"updatedLabel\": \"PTRATIO\"}, {\"transformationsData\": [{\"transformation_label\": \"novalue\"}], \"feature\": \"B\", \"type\": \"real\", \"selected\": \"True\", \"replaceby\": \"mean\", \"stats\": {\"count\": \"102\", \"mean\": \"357.25\", \"stddev\": \"94.17\", \"min\": \"3.65\", \"max\": \"396.9\", \"missing\": \"0\"}, \"transformation\": [{\"transformation\": \"novalue\", \"selectedAsDefault\": 1}], \"updatedLabel\": \"B\"}, {\"transformationsData\": [{\"transformation_label\": \"novalue\"}], \"feature\": \"LSTAT\", \"type\": \"real\", \"selected\": \"True\", \"replaceby\": \"mean\", \"stats\": {\"count\": \"102\", \"mean\": \"13.59\", \"stddev\": \"7.33\", \"min\": \"2.87\", \"max\": \"31.99\", \"missing\": \"0\"}, \"transformation\": [{\"transformation\": \"novalue\", \"selectedAsDefault\": 1}], \"updatedLabel\": \"LSTAT\"}, {\"transformationsData\": [{\"transformation_label\": \"novalue\"}], \"feature\": \"MEDV\", \"type\": \"real\", \"selected\": \"True\", \"replaceby\": \"mean\", \"stats\": {\"count\": \"102\", \"mean\": \"21.35\", \"stddev\": \"8.85\", \"min\": \"5.0\", \"max\": \"50.0\", \"missing\": \"0\"}, \"transformation\": [{\"transformation\": \"novalue\", \"selectedAsDefault\": 1}], \"updatedLabel\": \"MEDV\"}]}))\n",
    "\n",
    "\t#transformationPostExecutionHook(autofe)\n",
    "\n",
    "except Exception as ex: \n",
    "\tlogging.error(ex)\n"
   ]
  },
  {
   "cell_type": "markdown",
   "metadata": {},
   "source": [
    "***WRITING DATAFRAME***"
   ]
  },
  {
   "cell_type": "code",
   "execution_count": null,
   "metadata": {},
   "outputs": [],
   "source": [
    "#%run snowflakessinkHooks.ipynb\n",
    "try:\n",
    "\t#sinkPreExecutionHook()\n",
    "\n",
    "\tsnowflake = SnowFlakeConnector.put(spark, \"{'access_url': 'https://wx63330.southeast-asia.azure.snowflakecomputing.com', 'username': 'numtra1122', 'password': 'numtra1122F', 'database': 'TESTDB', 'schema': '', 'dbtype': 'snowflake', 'table_option': 'create_new_table', 'query': 'boastpredict11', 'new_table_name': 'boastpredict11', 'writemode': '', 'qtype': 'dbtable', 'is_header': 'Use Header Line'}\")\n",
    "\t#sinkPostExecutionHook(snowflake)\n",
    "\n",
    "except Exception as ex: \n",
    "\tlogging.error(ex)\n"
   ]
  }
 ],
 "metadata": {},
 "nbformat": 4,
 "nbformat_minor": 2
}
